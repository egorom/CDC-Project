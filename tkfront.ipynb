{
 "cells": [
  {
   "attachments": {},
   "cell_type": "markdown",
   "metadata": {},
   "source": [
    "#Author: Elaine Gorom\n",
    "#Description: Practicing tkinter for Project ideas"
   ]
  },
  {
   "cell_type": "code",
   "execution_count": 2,
   "metadata": {},
   "outputs": [],
   "source": [
    "import tkinter as tk\n",
    "import tkinter.messagebox"
   ]
  },
  {
   "cell_type": "code",
   "execution_count": 4,
   "metadata": {},
   "outputs": [],
   "source": [
    "class SIR_GUI:\n",
    "    def __init__(self):\n",
    "\n",
    "        #create the main window\n",
    "        self.main_window=tk.Tk()\n",
    "        self.main_window.geometry(\"400x400\")\n",
    "\n",
    "        #create frames to group widgets\n",
    "        self.beta_frame=tk.Frame()\n",
    "        self.gamma_frame=tk.Frame()\n",
    "        self.mu_frame=tk.Frame()\n",
    "        self.bottom_frame=tk.Frame()\n",
    "\n",
    "        #create slider for beta frame\n",
    "        self.beta_label=tk.Label(self.beta_frame, text='beta')\n",
    "        self.beta_slider=tk.Scale(self.beta_frame, from_=0,to=10, orient=tk.HORIZONTAL)\n",
    "        #pack the beta frame \n",
    "        self.beta_label.pack(side='left')\n",
    "        self.beta_slider.pack(side='left')\n",
    "\n",
    "        #create slider for gamma frame\n",
    "        self.gamma_label=tk.Label(self.gamma_frame, text='gamma')\n",
    "        self.gamma_slider=tk.Scale(self.gamma_frame, from_=0, to=10, orient=tk.HORIZONTAL)\n",
    "        #pack the gamma frame \n",
    "        self.gamma_label.pack(side='left')\n",
    "        self.gamma_slider.pack(side='left')\n",
    "\n",
    "        #create slide for mu frame\n",
    "        self.mu_label=tk.Label(self.mu_frame, text='mu')\n",
    "        self.mu_slider=tk.Scale(self.mu_frame, from_=0, to=10, orient=tk.HORIZONTAL)\n",
    "        #pack the mu frame\n",
    "        self.mu_label.pack(side='left')\n",
    "        self.mu_slider.pack(side='left')\n",
    "\n",
    "        #create buttom widgets for the bottom frame\n",
    "        self.calc_button=tk.Button(self.bottom_frame, text='Calculate')\n",
    "        self.quit_button=tk.Button(self.bottom_frame, text='Quit', command=self.main_window.destroy)\n",
    "        #pack the bottom frame buttons\n",
    "        self.calc_button.pack(side='left')\n",
    "        self.quit_button.pack(side='left')\n",
    "\n",
    "\n",
    "        #pack the frames\n",
    "        self.beta_frame.pack(side='top')\n",
    "        self.gamma_frame.pack(side='top')\n",
    "        self.mu_frame.pack(side='top')\n",
    "        self.bottom_frame.pack(side='top')\n",
    "\n",
    "        #enter the main loop\n",
    "        tk.mainloop()\n",
    "\n",
    "\n",
    "\n",
    "my_gui=SIR_GUI()"
   ]
  },
  {
   "cell_type": "code",
   "execution_count": null,
   "metadata": {},
   "outputs": [],
   "source": []
  }
 ],
 "metadata": {
  "kernelspec": {
   "display_name": "Python 3",
   "language": "python",
   "name": "python3"
  },
  "language_info": {
   "codemirror_mode": {
    "name": "ipython",
    "version": 3
   },
   "file_extension": ".py",
   "mimetype": "text/x-python",
   "name": "python",
   "nbconvert_exporter": "python",
   "pygments_lexer": "ipython3",
   "version": "3.10.0"
  },
  "orig_nbformat": 4
 },
 "nbformat": 4,
 "nbformat_minor": 2
}
