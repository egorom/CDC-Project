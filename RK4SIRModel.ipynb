{
 "cells": [
  {
   "cell_type": "code",
   "execution_count": 21,
   "metadata": {},
   "outputs": [
    {
     "ename": "TypeError",
     "evalue": "'int' object is not subscriptable",
     "output_type": "error",
     "traceback": [
      "\u001b[0;31m---------------------------------------------------------------------------\u001b[0m",
      "\u001b[0;31mTypeError\u001b[0m                                 Traceback (most recent call last)",
      "Cell \u001b[0;32mIn[21], line 57\u001b[0m\n\u001b[1;32m     55\u001b[0m r0\u001b[39m=\u001b[39m\u001b[39m0\u001b[39m\n\u001b[1;32m     56\u001b[0m dt\u001b[39m=\u001b[39m\u001b[39m1\u001b[39m\n\u001b[0;32m---> 57\u001b[0m solution\u001b[39m=\u001b[39mRK4SIR(n,beta,gamma,s0,i0,r0,dt)\n\u001b[1;32m     59\u001b[0m \u001b[39mprint\u001b[39m(solution)\n",
      "Cell \u001b[0;32mIn[21], line 27\u001b[0m, in \u001b[0;36mRK4SIR\u001b[0;34m(n, beta, gamma, s0, i0, r0, dt)\u001b[0m\n\u001b[1;32m     25\u001b[0m \u001b[39mfor\u001b[39;00m i \u001b[39min\u001b[39;00m \u001b[39mrange\u001b[39m(\u001b[39m1\u001b[39m,n):\n\u001b[1;32m     26\u001b[0m     Si\u001b[39m=\u001b[39mS[i]\n\u001b[0;32m---> 27\u001b[0m     Li\u001b[39m=\u001b[39mi[i]\n\u001b[1;32m     29\u001b[0m     sk1\u001b[39m=\u001b[39mdsdt(i,Si,Ii)\n\u001b[1;32m     30\u001b[0m     ik1\u001b[39m=\u001b[39mdidt(i,Si,Ii)\n",
      "\u001b[0;31mTypeError\u001b[0m: 'int' object is not subscriptable"
     ]
    }
   ],
   "source": [
    "#trying 4th order Runge-Kutta method for SIR model\n",
    "#author: Elaine Gorom\n",
    "\n",
    "#create function for susceptible ode\n",
    "def dsdt(t,s,i):\n",
    "    return(-beta*s*i)\n",
    "\n",
    "#create function for infected ode\n",
    "def didt(t,s,i):\n",
    "    return(beta*s*i-gamma*i)\n",
    "\n",
    "#omitting function for recovered ode since it's not necessary to solve this system of odes\n",
    "\n",
    "#creating main function for 4th order Runge-Kutta for SIR model\n",
    "def RK4SIR(n,beta, gamma,s0,i0,r0,dt):\n",
    "    #initialize the arrays for solutions\n",
    "    S=[s0]+[0]*n\n",
    "    I=[i0]+[0]*n\n",
    "    R=[r0]+[0]*n\n",
    "   \n",
    "\n",
    "\n",
    "\n",
    "    #calculate each step using RK4\n",
    "    for i in range(1,n):\n",
    "        Si=S[i]\n",
    "        Ii=i[i]\n",
    "\n",
    "        sk1=dsdt(i,Si,Ii)\n",
    "        ik1=didt(i,Si,Ii)\n",
    "\n",
    "        sk2=dsdt(i+dt/2,Si+dt/2*sk1,Ii+dt/2*ik1)\n",
    "        ik2=didt(i+dt/2,Si+dt/2*sk1,Ii+dt/2*ik1)\n",
    "\n",
    "        sk3=dsdt(i+dt/2,Si+dt/2*sk2,Ii+dt/2*ik2)\n",
    "        ik3=didt(i+dt/2,Si+dt/2*sk2,Ii+dt/2*ik2)\n",
    "\n",
    "        sk4=dsdt(i+dt,Si+dt*sk3,Ii+dt*ik3)\n",
    "        ik4=didt(i+dt,Si+dt*sk3,Ii+dt*ik3)\n",
    "\n",
    "        S[i+1]=Si+dt/6*(sk1+2*sk2+2*sk3+sk4)\n",
    "        I[i+1]=Ii+dt/6*(ik1+2*ik2+2*ik3+ik4)\n",
    "\n",
    "    #caculate recovered array\n",
    "    for i in range(len(R)):\n",
    "        R[i]=1-I[i]-S[i]\n",
    "\n",
    "    return S,I,R\n",
    "\n",
    "n=200\n",
    "beta=0.5\n",
    "gamma=1/3\n",
    "s0=.9\n",
    "i0=.1\n",
    "r0=0\n",
    "dt=1\n",
    "solution=RK4SIR(n,beta,gamma,s0,i0,r0,dt)\n",
    "    \n",
    "print(solution)"
   ]
  },
  {
   "cell_type": "code",
   "execution_count": 20,
   "metadata": {},
   "outputs": [],
   "source": [
    "s0=0.9\n",
    "i0=0.1\n",
    "n=200\n",
    "S=[s0]+[0]*n\n",
    "I=[i0]+[0]*n\n",
    "\n",
    "for i in range(1,n):\n",
    "        Ii=I[i]\n",
    "        "
   ]
  },
  {
   "cell_type": "code",
   "execution_count": null,
   "metadata": {},
   "outputs": [],
   "source": []
  }
 ],
 "metadata": {
  "kernelspec": {
   "display_name": "Python 3",
   "language": "python",
   "name": "python3"
  },
  "language_info": {
   "codemirror_mode": {
    "name": "ipython",
    "version": 3
   },
   "file_extension": ".py",
   "mimetype": "text/x-python",
   "name": "python",
   "nbconvert_exporter": "python",
   "pygments_lexer": "ipython3",
   "version": "3.9.2"
  },
  "orig_nbformat": 4
 },
 "nbformat": 4,
 "nbformat_minor": 2
}
