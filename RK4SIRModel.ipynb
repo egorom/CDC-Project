{
 "cells": [
  {
   "cell_type": "code",
   "execution_count": 15,
   "metadata": {},
   "outputs": [
    {
     "name": "stdout",
     "output_type": "stream",
     "text": [
      "0.9\n",
      "0.8536902667936572\n",
      "0.8055932768110821\n",
      "0.7570491411989236\n",
      "0.709391662246948\n",
      "0.6637997485771714\n",
      "0.6211918296665755\n",
      "0.5821792859397754\n",
      "0.5470748448594239\n",
      "0.5159387578273407\n",
      "0.4886422533644539\n",
      "0.4649316584427638\n",
      "0.444483245862774\n",
      "0.42694493124795213\n",
      "0.41196497820864647\n",
      "0.39920987125516855\n",
      "0.3883740877066916\n",
      "0.37918429431345546\n",
      "0.3713999828114488\n",
      "0.3648120085110677\n",
      "0.3592400260187514\n",
      "0.354529459135696\n",
      "0.35054839025856865\n",
      "0.34718458657437257\n",
      "0.3443427731291817\n",
      "0.34194219733017933\n",
      "0.3399144912953764\n",
      "0.33820181766980734\n",
      "0.3367552743703531\n",
      "0.3355335298613011\n"
     ]
    },
    {
     "data": {
      "text/plain": [
       "<function matplotlib.pyplot.show(close=None, block=None)>"
      ]
     },
     "execution_count": 15,
     "metadata": {},
     "output_type": "execute_result"
    },
    {
     "data": {
      "image/png": "[encoded data removed]",
      "text/plain": [
       "<Figure size 432x288 with 1 Axes>"
      ]
     },
     "metadata": {
      "needs_background": "light"
     },
     "output_type": "display_data"
    }
   ],
   "source": [
    "#trying 4th order Runge-Kutta method for SIR model\n",
    "#author: Elaine Gorom\n",
    "\n",
    "#create function for susceptible ode\n",
    "def dsdt(t,s,i):\n",
    "    return(-beta*s*i)\n",
    "\n",
    "#create function for infected ode\n",
    "def didt(t,s,i):\n",
    "    return(beta*s*i-gamma*i)\n",
    "\n",
    "#omitting function for recovered ode since it's not necessary to solve this system of odes\n",
    "\n",
    "#creating main function for 4th order Runge-Kutta for SIR model\n",
    "def RK4SIR(n,beta, gamma,s0,i0,r0,dt):\n",
    "    #initialize the arrays for solutions\n",
    "    S=[s0]+[0]*n\n",
    "    I=[i0]+[0]*n\n",
    "    R=[r0]+[0]*n\n",
    "   \n",
    "\n",
    "    #calculate each step using RK4\n",
    "    for i in range(0,n):\n",
    "        Si=S[i]\n",
    "        Ii=I[i]\n",
    "        print(Si)\n",
    "\n",
    "        sk1=dsdt(i,Si,Ii)\n",
    "        ik1=didt(i,Si,Ii)\n",
    "        \n",
    "\n",
    "        sk2=dsdt(i+dt/2,Si+dt/2*sk1,Ii+dt/2*ik1)\n",
    "        ik2=didt(i+dt/2,Si+dt/2*sk1,Ii+dt/2*ik1)\n",
    "\n",
    "        sk3=dsdt(i+dt/2,Si+dt/2*sk2,Ii+dt/2*ik2)\n",
    "        ik3=didt(i+dt/2,Si+dt/2*sk2,Ii+dt/2*ik2)\n",
    "\n",
    "        sk4=dsdt(i+dt,Si+dt*sk3,Ii+dt*ik3)\n",
    "        ik4=didt(i+dt,Si+dt*sk3,Ii+dt*ik3)\n",
    "\n",
    "        S[i+1]=Si+dt/6*(sk1+2*sk2+2*sk3+sk4)\n",
    "        I[i+1]=Ii+dt/6*(ik1+2*ik2+2*ik3+ik4)\n",
    "\n",
    "    #caculate recovered array\n",
    "    for i in range(len(R)):\n",
    "        R[i]=1-I[i]-S[i]\n",
    "\n",
    "    return S,I,R\n",
    "\n",
    "n=30\n",
    "beta=0.5\n",
    "gamma=1/3\n",
    "s0=.9\n",
    "i0=.1\n",
    "r0=0\n",
    "dt=1\n",
    "s,i,r=RK4SIR(n,beta,gamma,s0,i0,r0,dt)\n",
    "\n",
    "import numpy as np\n",
    "import math\n",
    "import matplotlib.pyplot as plt\n",
    "\n",
    "t=list(range(0,n+1))\n",
    "plt.figure\n",
    "plt.plot(t,s,'r')\n",
    "plt.plot(t,i,'b')\n",
    "plt.plot(t,r,'g')\n",
    "plt.show\n",
    "\n",
    "\n",
    "    \n"
   ]
  },
  {
   "attachments": {},
   "cell_type": "markdown",
   "metadata": {},
   "source": []
  },
  {
   "cell_type": "code",
   "execution_count": null,
   "metadata": {},
   "outputs": [],
   "source": []
  }
 ],
 "metadata": {
  "kernelspec": {
   "display_name": "Python 3",
   "language": "python",
   "name": "python3"
  },
  "language_info": {
   "codemirror_mode": {
    "name": "ipython",
    "version": 3
   },
   "file_extension": ".py",
   "mimetype": "text/x-python",
   "name": "python",
   "nbconvert_exporter": "python",
   "pygments_lexer": "ipython3",
   "version": "3.8.5"
  },
  "orig_nbformat": 4
 },
 "nbformat": 4,
 "nbformat_minor": 2
}
